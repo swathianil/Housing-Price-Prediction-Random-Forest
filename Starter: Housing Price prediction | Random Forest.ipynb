{
 "cells": [
  {
   "cell_type": "markdown",
   "id": "6fa7873d",
   "metadata": {
    "papermill": {
     "duration": 0.017193,
     "end_time": "2022-10-16T18:25:59.869559",
     "exception": false,
     "start_time": "2022-10-16T18:25:59.852366",
     "status": "completed"
    },
    "tags": []
   },
   "source": [
    "**This notebook is an exercise in the [Introduction to Machine Learning](https://www.kaggle.com/learn/intro-to-machine-learning) course.  You can reference the tutorial at [this link](https://www.kaggle.com/alexisbcook/machine-learning-competitions).**\n",
    "\n",
    "---\n"
   ]
  },
  {
   "cell_type": "markdown",
   "id": "78d49046",
   "metadata": {
    "execution": {
     "iopub.execute_input": "2022-10-16T11:18:33.736927Z",
     "iopub.status.busy": "2022-10-16T11:18:33.736507Z",
     "iopub.status.idle": "2022-10-16T11:18:33.754130Z",
     "shell.execute_reply": "2022-10-16T11:18:33.752749Z",
     "shell.execute_reply.started": "2022-10-16T11:18:33.736889Z"
    },
    "papermill": {
     "duration": 0.015981,
     "end_time": "2022-10-16T18:25:59.900265",
     "exception": false,
     "start_time": "2022-10-16T18:25:59.884284",
     "status": "completed"
    },
    "tags": []
   },
   "source": [
    "![alt text for screen readers](https://thumbs.dreamstime.com/b/outline-ames-iowa-skyline-white-buildings-vector-illustration-business-travel-tourism-concept-historic-architecture-203382169.jpg \"Credits: dreamstime.com\")\n",
    "\n",
    "<span style=\"color:PaleVioletRed;font-weight:600;font-size:50px;font-family:monotype;\">\n",
    "    Housing Prices Competition: Ames Housing dataset \n",
    "</span>\n",
    "    \n",
    "\n",
    "\n",
    "        \n",
    "\n",
    "    This is a tutorial for beginners to work through the Housing Prices Cometition for Kaggle Learn Users [Competition](https://www.kaggle.com/competitions/home-data-for-ml-course/)\n",
    "    \n",
    "    Here is a short problem description:\n",
    "    \"With 79 explanatory variables describing (almost) every aspect of residential homes in Ames, Iowa, this competition challenges you to predict the final price of each home.\"\n",
    "    The task is to predict the selling price of a home based on a dataset describing exisiting homes, and their features and the final price.\n",
    "    \n",
    "    In this kernel, we will work through the kaggle dataset Ames Housing to understand basic concepts of a Random forest Regressor.\n",
    "    \n",
    "    Hope you enjoy the kernel! "
   ]
  },
  {
   "cell_type": "markdown",
   "id": "3d96f203",
   "metadata": {
    "execution": {
     "iopub.execute_input": "2022-10-16T11:30:01.239089Z",
     "iopub.status.busy": "2022-10-16T11:30:01.238697Z",
     "iopub.status.idle": "2022-10-16T11:30:01.255842Z",
     "shell.execute_reply": "2022-10-16T11:30:01.254499Z",
     "shell.execute_reply.started": "2022-10-16T11:30:01.239055Z"
    },
    "papermill": {
     "duration": 0.014158,
     "end_time": "2022-10-16T18:25:59.929354",
     "exception": false,
     "start_time": "2022-10-16T18:25:59.915196",
     "status": "completed"
    },
    "tags": []
   },
   "source": [
    "<span style=\"color:grey;font-weight:500;font-size:20px;font-style:serif\">\n",
    "<span style=\"color:pink;font-weight:600;font-size:30px;font-style:serif\">\n",
    "    Objective\n",
    "</span>\n",
    "\n",
    "Predict the selling price of a home based on a dataset describing exisiting homes, and their features and the final price\n",
    "\n",
    "<span style=\"color:pink;font-weight:600;font-size:30px;font-style:serif\">\n",
    "    File description\n",
    "</span>\n",
    "    \n",
    "- Starter: Housing Price prediction | Random Forest.ipynb : Tutorial and steps to load, wrangle the data, apply logistic regression classifier and test model performance.\n",
    "- home-data-for-ml-course : data file consisiting of the Ames Housing dataset\n",
    "\n",
    "<span style=\"color:pink;font-weight:600;font-size:30px;font-style:serif\">\n",
    "   Data description\n",
    "</span> \n",
    " \n",
    " Tabular data consisting of 1460 entries, each with 81 attributes, including 'SalePrice', which would be the target for prediction \n",
    " \n",
    "**Source:** The Ames Housing dataset was compiled by Dean De Cock for use in data science education. \n",
    "</span>\n"
   ]
  },
  {
   "cell_type": "markdown",
   "id": "61eb1e9b",
   "metadata": {
    "papermill": {
     "duration": 0.014368,
     "end_time": "2022-10-16T18:25:59.958258",
     "exception": false,
     "start_time": "2022-10-16T18:25:59.943890",
     "status": "completed"
    },
    "tags": []
   },
   "source": [
    "<a id='21'>\n",
    "</a>\n",
    "<span style=\"color:pink;font-weight:600;font-size:30px;font-style:serif\">\n",
    "   Data Analysis Content\n",
    "</span>\n",
    "<span style=\"font-weight:600;font-size:20px;font-style:serif\">\n",
    "    \n",
    "1. [Import Dependencies](#1)\n",
    "1. [Load Data](#2)\n",
    "1. [Data preprocessing](#3)\n",
    "    1. [Remove null values](#4)\n",
    "    1. [Remove highly correlated features](#5) \n",
    "    1. [Feature engineering](#6)\n",
    "    1. [Split dataset](#7)\n",
    "    1. [One hot encode](#8)\n",
    "    1. [Feature scaling](#8b)\n",
    "1. [ Random Forest Regressor](#9)\n",
    "    1. [Performance Evaluation](#10)\n",
    "    1. [Train model on all data](#11)\n",
    "1. [Load raw data for prediction](#12)\n",
    "1. [Test-data preprocessing](#13)\n",
    "    1. [Feature match with training data](#14) \n",
    "    1. [Feature engineering](#15)\n",
    "    1. [Replace null values](#16)\n",
    "    1. [One hot encode](#17)\n",
    "    1. [Feature scaling](#18)\n",
    "1. [Data prediction on test data](#19)\n",
    "1. [Generate submission](#20)\n",
    "\n",
    "</span>"
   ]
  },
  {
   "cell_type": "markdown",
   "id": "12161416",
   "metadata": {
    "execution": {
     "iopub.execute_input": "2022-10-16T11:48:52.239744Z",
     "iopub.status.busy": "2022-10-16T11:48:52.239308Z",
     "iopub.status.idle": "2022-10-16T11:48:52.248630Z",
     "shell.execute_reply": "2022-10-16T11:48:52.246608Z",
     "shell.execute_reply.started": "2022-10-16T11:48:52.239705Z"
    },
    "papermill": {
     "duration": 0.01415,
     "end_time": "2022-10-16T18:25:59.987264",
     "exception": false,
     "start_time": "2022-10-16T18:25:59.973114",
     "status": "completed"
    },
    "tags": []
   },
   "source": [
    "<a id='1'></a>\n",
    "<span style=\"color:pink;font-weight:600;font-size:25px;font-style:serif\">\n",
    "    Import Dependencies\n",
    "</span>\n",
    "\n",
    "<span style=\"color:grey;font-weight:500;font-size:20px;font-style:serif\">\n",
    "    First we will import our helper modules that we will use throughout this kernel\n",
    "</span>\n"
   ]
  },
  {
   "cell_type": "code",
   "execution_count": 1,
   "id": "0749ebcb",
   "metadata": {
    "execution": {
     "iopub.execute_input": "2022-10-16T18:26:00.018710Z",
     "iopub.status.busy": "2022-10-16T18:26:00.017768Z",
     "iopub.status.idle": "2022-10-16T18:26:01.555831Z",
     "shell.execute_reply": "2022-10-16T18:26:01.554146Z"
    },
    "papermill": {
     "duration": 1.557402,
     "end_time": "2022-10-16T18:26:01.559014",
     "exception": false,
     "start_time": "2022-10-16T18:26:00.001612",
     "status": "completed"
    },
    "tags": []
   },
   "outputs": [],
   "source": [
    "# Import helpful libraries\n",
    "import pandas as pd\n",
    "import numpy as np\n",
    "from sklearn.ensemble import RandomForestRegressor\n",
    "from sklearn.metrics import mean_absolute_error\n",
    "from sklearn.model_selection import train_test_split\n",
    "from sklearn.preprocessing import StandardScaler \n",
    "from sklearn.decomposition import PCA\n",
    "from sklearn.cluster import k_means"
   ]
  },
  {
   "cell_type": "markdown",
   "id": "027c4c54",
   "metadata": {
    "papermill": {
     "duration": 0.014375,
     "end_time": "2022-10-16T18:26:01.588720",
     "exception": false,
     "start_time": "2022-10-16T18:26:01.574345",
     "status": "completed"
    },
    "tags": []
   },
   "source": [
    "<a id='2'></a>\n",
    "<span style=\"color:pink;font-weight:600;font-size:25px;font-style:serif\">\n",
    "    Load Data\n",
    "</span>\n"
   ]
  },
  {
   "cell_type": "code",
   "execution_count": 2,
   "id": "41e26867",
   "metadata": {
    "execution": {
     "iopub.execute_input": "2022-10-16T18:26:01.620694Z",
     "iopub.status.busy": "2022-10-16T18:26:01.620232Z",
     "iopub.status.idle": "2022-10-16T18:26:01.670943Z",
     "shell.execute_reply": "2022-10-16T18:26:01.669581Z"
    },
    "papermill": {
     "duration": 0.069862,
     "end_time": "2022-10-16T18:26:01.673716",
     "exception": false,
     "start_time": "2022-10-16T18:26:01.603854",
     "status": "completed"
    },
    "tags": []
   },
   "outputs": [],
   "source": [
    "# Load the data, and separate the target\n",
    "iowa_file_path = '../input/train.csv'\n",
    "df = pd.read_csv(iowa_file_path)\n",
    "\n",
    "\n",
    "pd.options.display.max_rows = 20"
   ]
  },
  {
   "cell_type": "code",
   "execution_count": 3,
   "id": "7d757100",
   "metadata": {
    "execution": {
     "iopub.execute_input": "2022-10-16T18:26:01.705020Z",
     "iopub.status.busy": "2022-10-16T18:26:01.704584Z",
     "iopub.status.idle": "2022-10-16T18:26:01.714575Z",
     "shell.execute_reply": "2022-10-16T18:26:01.713431Z"
    },
    "papermill": {
     "duration": 0.02808,
     "end_time": "2022-10-16T18:26:01.716851",
     "exception": false,
     "start_time": "2022-10-16T18:26:01.688771",
     "status": "completed"
    },
    "tags": []
   },
   "outputs": [
    {
     "data": {
      "text/plain": [
       "Index(['Id', 'MSSubClass', 'MSZoning', 'LotFrontage', 'LotArea', 'Street',\n",
       "       'Alley', 'LotShape', 'LandContour', 'Utilities', 'LotConfig',\n",
       "       'LandSlope', 'Neighborhood', 'Condition1', 'Condition2', 'BldgType',\n",
       "       'HouseStyle', 'OverallQual', 'OverallCond', 'YearBuilt', 'YearRemodAdd',\n",
       "       'RoofStyle', 'RoofMatl', 'Exterior1st', 'Exterior2nd', 'MasVnrType',\n",
       "       'MasVnrArea', 'ExterQual', 'ExterCond', 'Foundation', 'BsmtQual',\n",
       "       'BsmtCond', 'BsmtExposure', 'BsmtFinType1', 'BsmtFinSF1',\n",
       "       'BsmtFinType2', 'BsmtFinSF2', 'BsmtUnfSF', 'TotalBsmtSF', 'Heating',\n",
       "       'HeatingQC', 'CentralAir', 'Electrical', '1stFlrSF', '2ndFlrSF',\n",
       "       'LowQualFinSF', 'GrLivArea', 'BsmtFullBath', 'BsmtHalfBath', 'FullBath',\n",
       "       'HalfBath', 'BedroomAbvGr', 'KitchenAbvGr', 'KitchenQual',\n",
       "       'TotRmsAbvGrd', 'Functional', 'Fireplaces', 'FireplaceQu', 'GarageType',\n",
       "       'GarageYrBlt', 'GarageFinish', 'GarageCars', 'GarageArea', 'GarageQual',\n",
       "       'GarageCond', 'PavedDrive', 'WoodDeckSF', 'OpenPorchSF',\n",
       "       'EnclosedPorch', '3SsnPorch', 'ScreenPorch', 'PoolArea', 'PoolQC',\n",
       "       'Fence', 'MiscFeature', 'MiscVal', 'MoSold', 'YrSold', 'SaleType',\n",
       "       'SaleCondition', 'SalePrice'],\n",
       "      dtype='object')"
      ]
     },
     "execution_count": 3,
     "metadata": {},
     "output_type": "execute_result"
    }
   ],
   "source": [
    "df.columns"
   ]
  },
  {
   "cell_type": "markdown",
   "id": "659e51d1",
   "metadata": {
    "papermill": {
     "duration": 0.014918,
     "end_time": "2022-10-16T18:26:01.746579",
     "exception": false,
     "start_time": "2022-10-16T18:26:01.731661",
     "status": "completed"
    },
    "tags": []
   },
   "source": [
    "<a id='4'></a>\n",
    "<span style=\"color:pink;font-weight:600;font-size:25px;font-style:serif\">\n",
    "    Data preprocessing\n",
    "</span>\n"
   ]
  },
  {
   "cell_type": "code",
   "execution_count": 4,
   "id": "8715fe46",
   "metadata": {
    "execution": {
     "iopub.execute_input": "2022-10-16T18:26:01.778460Z",
     "iopub.status.busy": "2022-10-16T18:26:01.778020Z",
     "iopub.status.idle": "2022-10-16T18:26:01.795104Z",
     "shell.execute_reply": "2022-10-16T18:26:01.793558Z"
    },
    "papermill": {
     "duration": 0.036027,
     "end_time": "2022-10-16T18:26:01.797826",
     "exception": false,
     "start_time": "2022-10-16T18:26:01.761799",
     "status": "completed"
    },
    "tags": []
   },
   "outputs": [],
   "source": [
    "# Split dataset into independent & dependent datasets\n",
    "X = df.drop('SalePrice', axis=1)\n",
    "y = df.SalePrice"
   ]
  },
  {
   "cell_type": "markdown",
   "id": "310082ba",
   "metadata": {
    "execution": {
     "iopub.execute_input": "2022-10-16T11:55:17.928077Z",
     "iopub.status.busy": "2022-10-16T11:55:17.926710Z",
     "iopub.status.idle": "2022-10-16T11:55:17.935844Z",
     "shell.execute_reply": "2022-10-16T11:55:17.934174Z",
     "shell.execute_reply.started": "2022-10-16T11:55:17.928026Z"
    },
    "papermill": {
     "duration": 0.01501,
     "end_time": "2022-10-16T18:26:01.827777",
     "exception": false,
     "start_time": "2022-10-16T18:26:01.812767",
     "status": "completed"
    },
    "tags": []
   },
   "source": [
    "<a id='3'></a>\n",
    "<span style=\"color:pink;font-weight:600;font-size:20px;font-style:serif\">\n",
    "    Remove null values\n",
    "</span>\n"
   ]
  },
  {
   "cell_type": "code",
   "execution_count": 5,
   "id": "1c999864",
   "metadata": {
    "execution": {
     "iopub.execute_input": "2022-10-16T18:26:01.859110Z",
     "iopub.status.busy": "2022-10-16T18:26:01.858722Z",
     "iopub.status.idle": "2022-10-16T18:26:01.872312Z",
     "shell.execute_reply": "2022-10-16T18:26:01.870850Z"
    },
    "papermill": {
     "duration": 0.032867,
     "end_time": "2022-10-16T18:26:01.875080",
     "exception": false,
     "start_time": "2022-10-16T18:26:01.842213",
     "status": "completed"
    },
    "tags": []
   },
   "outputs": [
    {
     "data": {
      "text/plain": [
       "Id                 0\n",
       "MSSubClass         0\n",
       "MSZoning           0\n",
       "LotFrontage      259\n",
       "LotArea            0\n",
       "                ... \n",
       "MiscVal            0\n",
       "MoSold             0\n",
       "YrSold             0\n",
       "SaleType           0\n",
       "SaleCondition      0\n",
       "Length: 80, dtype: int64"
      ]
     },
     "execution_count": 5,
     "metadata": {},
     "output_type": "execute_result"
    }
   ],
   "source": [
    "# Detect null values\n",
    "X.isna().sum()"
   ]
  },
  {
   "cell_type": "code",
   "execution_count": 6,
   "id": "a9855e47",
   "metadata": {
    "execution": {
     "iopub.execute_input": "2022-10-16T18:26:01.906627Z",
     "iopub.status.busy": "2022-10-16T18:26:01.906224Z",
     "iopub.status.idle": "2022-10-16T18:26:01.928906Z",
     "shell.execute_reply": "2022-10-16T18:26:01.927719Z"
    },
    "papermill": {
     "duration": 0.0411,
     "end_time": "2022-10-16T18:26:01.931299",
     "exception": false,
     "start_time": "2022-10-16T18:26:01.890199",
     "status": "completed"
    },
    "tags": []
   },
   "outputs": [
    {
     "data": {
      "text/plain": [
       "Id               0\n",
       "MSSubClass       0\n",
       "MSZoning         0\n",
       "LotArea          0\n",
       "Street           0\n",
       "                ..\n",
       "MiscVal          0\n",
       "MoSold           0\n",
       "YrSold           0\n",
       "SaleType         0\n",
       "SaleCondition    0\n",
       "Length: 61, dtype: int64"
      ]
     },
     "execution_count": 6,
     "metadata": {},
     "output_type": "execute_result"
    }
   ],
   "source": [
    "# Drop null values\n",
    "def nulldrop(df):\n",
    "    df.dropna(axis=1, inplace=True)\n",
    "    return df\n",
    "       \n",
    "X = nulldrop(X)\n",
    "X.isna().sum()"
   ]
  },
  {
   "cell_type": "code",
   "execution_count": 7,
   "id": "995a6730",
   "metadata": {
    "execution": {
     "iopub.execute_input": "2022-10-16T18:26:01.962931Z",
     "iopub.status.busy": "2022-10-16T18:26:01.962208Z",
     "iopub.status.idle": "2022-10-16T18:26:01.968834Z",
     "shell.execute_reply": "2022-10-16T18:26:01.967727Z"
    },
    "papermill": {
     "duration": 0.025042,
     "end_time": "2022-10-16T18:26:01.971094",
     "exception": false,
     "start_time": "2022-10-16T18:26:01.946052",
     "status": "completed"
    },
    "tags": []
   },
   "outputs": [
    {
     "data": {
      "text/plain": [
       "(1460, 61)"
      ]
     },
     "execution_count": 7,
     "metadata": {},
     "output_type": "execute_result"
    }
   ],
   "source": [
    "X.shape"
   ]
  },
  {
   "cell_type": "markdown",
   "id": "134e9a0e",
   "metadata": {
    "execution": {
     "iopub.execute_input": "2022-10-16T16:43:53.839342Z",
     "iopub.status.busy": "2022-10-16T16:43:53.838807Z",
     "iopub.status.idle": "2022-10-16T16:43:53.847560Z",
     "shell.execute_reply": "2022-10-16T16:43:53.846043Z",
     "shell.execute_reply.started": "2022-10-16T16:43:53.839298Z"
    },
    "papermill": {
     "duration": 0.014856,
     "end_time": "2022-10-16T18:26:02.001382",
     "exception": false,
     "start_time": "2022-10-16T18:26:01.986526",
     "status": "completed"
    },
    "tags": []
   },
   "source": [
    "<a id='4'></a>\n",
    "<span style=\"color:pink;font-weight:600;font-size:20px;font-style:serif\">\n",
    "    Remove highly correlated features\n",
    "</span>\n",
    "\n",
    "<span style=\"color:grey;font-weight:500;font-size:20px;font-style:serif\">\n",
    "Hghly correlated features can lead to multicollinearity among independent variables. This can affect model performance. Hene, it is important to remove such features. \n",
    "</span>"
   ]
  },
  {
   "cell_type": "code",
   "execution_count": 8,
   "id": "cdd9318b",
   "metadata": {
    "execution": {
     "iopub.execute_input": "2022-10-16T18:26:02.032434Z",
     "iopub.status.busy": "2022-10-16T18:26:02.032004Z",
     "iopub.status.idle": "2022-10-16T18:26:02.059628Z",
     "shell.execute_reply": "2022-10-16T18:26:02.058730Z"
    },
    "papermill": {
     "duration": 0.046302,
     "end_time": "2022-10-16T18:26:02.062370",
     "exception": false,
     "start_time": "2022-10-16T18:26:02.016068",
     "status": "completed"
    },
    "tags": []
   },
   "outputs": [
    {
     "name": "stdout",
     "output_type": "stream",
     "text": [
      "The reduced dataframe has 61 columns.\n"
     ]
    }
   ],
   "source": [
    "# removing highly correlated features to avoid multicolinearity\n",
    "def corrdrop(df, maxcorr):\n",
    "    corr_matrix = df.corr().abs() \n",
    "    mask = np.triu(np.ones_like(corr_matrix, dtype = bool))\n",
    "    tri_df = corr_matrix.mask(mask)\n",
    "    to_drop = [x for x in tri_df.columns if any(tri_df[x] > maxcorr)]\n",
    "    df = df.drop(to_drop, axis = 1)\n",
    "    return df\n",
    "\n",
    "X = corrdrop(X, 0.95)\n",
    "print(f\"The reduced dataframe has {X.shape[1]} columns.\")"
   ]
  },
  {
   "cell_type": "code",
   "execution_count": 9,
   "id": "75241c23",
   "metadata": {
    "execution": {
     "iopub.execute_input": "2022-10-16T18:26:02.107818Z",
     "iopub.status.busy": "2022-10-16T18:26:02.105827Z",
     "iopub.status.idle": "2022-10-16T18:26:02.113160Z",
     "shell.execute_reply": "2022-10-16T18:26:02.111697Z"
    },
    "papermill": {
     "duration": 0.036674,
     "end_time": "2022-10-16T18:26:02.116768",
     "exception": false,
     "start_time": "2022-10-16T18:26:02.080094",
     "status": "completed"
    },
    "tags": []
   },
   "outputs": [],
   "source": [
    "# Note down column names for later\n",
    "corr_cols = X.columns"
   ]
  },
  {
   "cell_type": "markdown",
   "id": "567b970a",
   "metadata": {
    "papermill": {
     "duration": 0.019368,
     "end_time": "2022-10-16T18:26:02.155814",
     "exception": false,
     "start_time": "2022-10-16T18:26:02.136446",
     "status": "completed"
    },
    "tags": []
   },
   "source": [
    "<a id='5'></a>\n",
    "<span style=\"color:pink;font-weight:600;font-size:20px;font-style:serif\">\n",
    "    Feature engineering\n",
    "</span>\n",
    "\n",
    "<span style=\"color:grey;font-weight:500;font-size:20px;font-style:serif\">\n",
    "Here, we will create new features from exisiting ones that would act as good indicators of the price of a house, for example, the total number of bathrooms a house has.\n",
    "</span>"
   ]
  },
  {
   "cell_type": "code",
   "execution_count": 10,
   "id": "e6924154",
   "metadata": {
    "execution": {
     "iopub.execute_input": "2022-10-16T18:26:02.192222Z",
     "iopub.status.busy": "2022-10-16T18:26:02.191480Z",
     "iopub.status.idle": "2022-10-16T18:26:02.203435Z",
     "shell.execute_reply": "2022-10-16T18:26:02.202561Z"
    },
    "papermill": {
     "duration": 0.032059,
     "end_time": "2022-10-16T18:26:02.206386",
     "exception": false,
     "start_time": "2022-10-16T18:26:02.174327",
     "status": "completed"
    },
    "tags": []
   },
   "outputs": [
    {
     "data": {
      "text/plain": [
       "(1460, 64)"
      ]
     },
     "execution_count": 10,
     "metadata": {},
     "output_type": "execute_result"
    }
   ],
   "source": [
    "def create_extra_features(df):    \n",
    "    df['TotBath'] = df['FullBath'] + (0.5* df['HalfBath']) + df['BsmtFullBath'] + (0.5*df['BsmtHalfBath'])    \n",
    "    df['Total_Home_Quality'] = df['OverallQual'] + df['OverallCond']\n",
    "    df[\"HighQualSF\"] = df[\"1stFlrSF\"] + df[\"2ndFlrSF\"]\n",
    "    return df\n",
    "\n",
    "X = create_extra_features(X)\n",
    "X.shape"
   ]
  },
  {
   "cell_type": "code",
   "execution_count": 11,
   "id": "c6897c62",
   "metadata": {
    "execution": {
     "iopub.execute_input": "2022-10-16T18:26:02.241770Z",
     "iopub.status.busy": "2022-10-16T18:26:02.241310Z",
     "iopub.status.idle": "2022-10-16T18:26:02.270577Z",
     "shell.execute_reply": "2022-10-16T18:26:02.269381Z"
    },
    "papermill": {
     "duration": 0.050092,
     "end_time": "2022-10-16T18:26:02.273215",
     "exception": false,
     "start_time": "2022-10-16T18:26:02.223123",
     "status": "completed"
    },
    "tags": []
   },
   "outputs": [
    {
     "data": {
      "text/html": [
       "<div>\n",
       "<style scoped>\n",
       "    .dataframe tbody tr th:only-of-type {\n",
       "        vertical-align: middle;\n",
       "    }\n",
       "\n",
       "    .dataframe tbody tr th {\n",
       "        vertical-align: top;\n",
       "    }\n",
       "\n",
       "    .dataframe thead th {\n",
       "        text-align: right;\n",
       "    }\n",
       "</style>\n",
       "<table border=\"1\" class=\"dataframe\">\n",
       "  <thead>\n",
       "    <tr style=\"text-align: right;\">\n",
       "      <th></th>\n",
       "      <th>Id</th>\n",
       "      <th>MSSubClass</th>\n",
       "      <th>MSZoning</th>\n",
       "      <th>LotArea</th>\n",
       "      <th>Street</th>\n",
       "      <th>LotShape</th>\n",
       "      <th>LandContour</th>\n",
       "      <th>Utilities</th>\n",
       "      <th>LotConfig</th>\n",
       "      <th>LandSlope</th>\n",
       "      <th>...</th>\n",
       "      <th>ScreenPorch</th>\n",
       "      <th>PoolArea</th>\n",
       "      <th>MiscVal</th>\n",
       "      <th>MoSold</th>\n",
       "      <th>YrSold</th>\n",
       "      <th>SaleType</th>\n",
       "      <th>SaleCondition</th>\n",
       "      <th>TotBath</th>\n",
       "      <th>Total_Home_Quality</th>\n",
       "      <th>HighQualSF</th>\n",
       "    </tr>\n",
       "  </thead>\n",
       "  <tbody>\n",
       "    <tr>\n",
       "      <th>0</th>\n",
       "      <td>1</td>\n",
       "      <td>60</td>\n",
       "      <td>RL</td>\n",
       "      <td>8450</td>\n",
       "      <td>Pave</td>\n",
       "      <td>Reg</td>\n",
       "      <td>Lvl</td>\n",
       "      <td>AllPub</td>\n",
       "      <td>Inside</td>\n",
       "      <td>Gtl</td>\n",
       "      <td>...</td>\n",
       "      <td>0</td>\n",
       "      <td>0</td>\n",
       "      <td>0</td>\n",
       "      <td>2</td>\n",
       "      <td>2008</td>\n",
       "      <td>WD</td>\n",
       "      <td>Normal</td>\n",
       "      <td>3.5</td>\n",
       "      <td>12</td>\n",
       "      <td>1710</td>\n",
       "    </tr>\n",
       "    <tr>\n",
       "      <th>1</th>\n",
       "      <td>2</td>\n",
       "      <td>20</td>\n",
       "      <td>RL</td>\n",
       "      <td>9600</td>\n",
       "      <td>Pave</td>\n",
       "      <td>Reg</td>\n",
       "      <td>Lvl</td>\n",
       "      <td>AllPub</td>\n",
       "      <td>FR2</td>\n",
       "      <td>Gtl</td>\n",
       "      <td>...</td>\n",
       "      <td>0</td>\n",
       "      <td>0</td>\n",
       "      <td>0</td>\n",
       "      <td>5</td>\n",
       "      <td>2007</td>\n",
       "      <td>WD</td>\n",
       "      <td>Normal</td>\n",
       "      <td>2.5</td>\n",
       "      <td>14</td>\n",
       "      <td>1262</td>\n",
       "    </tr>\n",
       "    <tr>\n",
       "      <th>2</th>\n",
       "      <td>3</td>\n",
       "      <td>60</td>\n",
       "      <td>RL</td>\n",
       "      <td>11250</td>\n",
       "      <td>Pave</td>\n",
       "      <td>IR1</td>\n",
       "      <td>Lvl</td>\n",
       "      <td>AllPub</td>\n",
       "      <td>Inside</td>\n",
       "      <td>Gtl</td>\n",
       "      <td>...</td>\n",
       "      <td>0</td>\n",
       "      <td>0</td>\n",
       "      <td>0</td>\n",
       "      <td>9</td>\n",
       "      <td>2008</td>\n",
       "      <td>WD</td>\n",
       "      <td>Normal</td>\n",
       "      <td>3.5</td>\n",
       "      <td>12</td>\n",
       "      <td>1786</td>\n",
       "    </tr>\n",
       "    <tr>\n",
       "      <th>3</th>\n",
       "      <td>4</td>\n",
       "      <td>70</td>\n",
       "      <td>RL</td>\n",
       "      <td>9550</td>\n",
       "      <td>Pave</td>\n",
       "      <td>IR1</td>\n",
       "      <td>Lvl</td>\n",
       "      <td>AllPub</td>\n",
       "      <td>Corner</td>\n",
       "      <td>Gtl</td>\n",
       "      <td>...</td>\n",
       "      <td>0</td>\n",
       "      <td>0</td>\n",
       "      <td>0</td>\n",
       "      <td>2</td>\n",
       "      <td>2006</td>\n",
       "      <td>WD</td>\n",
       "      <td>Abnorml</td>\n",
       "      <td>2.0</td>\n",
       "      <td>12</td>\n",
       "      <td>1717</td>\n",
       "    </tr>\n",
       "    <tr>\n",
       "      <th>4</th>\n",
       "      <td>5</td>\n",
       "      <td>60</td>\n",
       "      <td>RL</td>\n",
       "      <td>14260</td>\n",
       "      <td>Pave</td>\n",
       "      <td>IR1</td>\n",
       "      <td>Lvl</td>\n",
       "      <td>AllPub</td>\n",
       "      <td>FR2</td>\n",
       "      <td>Gtl</td>\n",
       "      <td>...</td>\n",
       "      <td>0</td>\n",
       "      <td>0</td>\n",
       "      <td>0</td>\n",
       "      <td>12</td>\n",
       "      <td>2008</td>\n",
       "      <td>WD</td>\n",
       "      <td>Normal</td>\n",
       "      <td>3.5</td>\n",
       "      <td>13</td>\n",
       "      <td>2198</td>\n",
       "    </tr>\n",
       "  </tbody>\n",
       "</table>\n",
       "<p>5 rows × 64 columns</p>\n",
       "</div>"
      ],
      "text/plain": [
       "   Id  MSSubClass MSZoning  LotArea Street LotShape LandContour Utilities  \\\n",
       "0   1          60       RL     8450   Pave      Reg         Lvl    AllPub   \n",
       "1   2          20       RL     9600   Pave      Reg         Lvl    AllPub   \n",
       "2   3          60       RL    11250   Pave      IR1         Lvl    AllPub   \n",
       "3   4          70       RL     9550   Pave      IR1         Lvl    AllPub   \n",
       "4   5          60       RL    14260   Pave      IR1         Lvl    AllPub   \n",
       "\n",
       "  LotConfig LandSlope  ... ScreenPorch PoolArea MiscVal MoSold YrSold  \\\n",
       "0    Inside       Gtl  ...           0        0       0      2   2008   \n",
       "1       FR2       Gtl  ...           0        0       0      5   2007   \n",
       "2    Inside       Gtl  ...           0        0       0      9   2008   \n",
       "3    Corner       Gtl  ...           0        0       0      2   2006   \n",
       "4       FR2       Gtl  ...           0        0       0     12   2008   \n",
       "\n",
       "   SaleType  SaleCondition  TotBath  Total_Home_Quality HighQualSF  \n",
       "0        WD         Normal      3.5                  12       1710  \n",
       "1        WD         Normal      2.5                  14       1262  \n",
       "2        WD         Normal      3.5                  12       1786  \n",
       "3        WD        Abnorml      2.0                  12       1717  \n",
       "4        WD         Normal      3.5                  13       2198  \n",
       "\n",
       "[5 rows x 64 columns]"
      ]
     },
     "execution_count": 11,
     "metadata": {},
     "output_type": "execute_result"
    }
   ],
   "source": [
    "X.head()"
   ]
  },
  {
   "cell_type": "markdown",
   "id": "e9b975a0",
   "metadata": {
    "papermill": {
     "duration": 0.015008,
     "end_time": "2022-10-16T18:26:02.303815",
     "exception": false,
     "start_time": "2022-10-16T18:26:02.288807",
     "status": "completed"
    },
    "tags": []
   },
   "source": [
    "<a id='6'></a>\n",
    "<span style=\"color:pink;font-weight:600;font-size:20px;font-style:serif\">\n",
    "    Split dataset\n",
    "</span>\n",
    "\n",
    "<span style=\"color:grey;font-weight:500;font-size:20px;font-style:serif\">\n",
    "    We need data to build the model and then data to validate the model. For this purpose we split out dataset into a training set and a test set, respectively. So that we get the same split every tim this notebook is run, we will set random_state as a fixed number. This is considered good practice.\n",
    "</span>"
   ]
  },
  {
   "cell_type": "code",
   "execution_count": 12,
   "id": "31689afe",
   "metadata": {
    "execution": {
     "iopub.execute_input": "2022-10-16T18:26:02.337516Z",
     "iopub.status.busy": "2022-10-16T18:26:02.337086Z",
     "iopub.status.idle": "2022-10-16T18:26:02.347140Z",
     "shell.execute_reply": "2022-10-16T18:26:02.345894Z"
    },
    "papermill": {
     "duration": 0.030301,
     "end_time": "2022-10-16T18:26:02.349721",
     "exception": false,
     "start_time": "2022-10-16T18:26:02.319420",
     "status": "completed"
    },
    "tags": []
   },
   "outputs": [],
   "source": [
    "# Split into validation and training data\n",
    "X_train, X_test, y_train, y_test = train_test_split(X, y, random_state=1)"
   ]
  },
  {
   "cell_type": "code",
   "execution_count": 13,
   "id": "7f2f644f",
   "metadata": {
    "execution": {
     "iopub.execute_input": "2022-10-16T18:26:02.383829Z",
     "iopub.status.busy": "2022-10-16T18:26:02.382333Z",
     "iopub.status.idle": "2022-10-16T18:26:02.390309Z",
     "shell.execute_reply": "2022-10-16T18:26:02.389164Z"
    },
    "papermill": {
     "duration": 0.027585,
     "end_time": "2022-10-16T18:26:02.392947",
     "exception": false,
     "start_time": "2022-10-16T18:26:02.365362",
     "status": "completed"
    },
    "tags": []
   },
   "outputs": [
    {
     "data": {
      "text/plain": [
       "(365, 64)"
      ]
     },
     "execution_count": 13,
     "metadata": {},
     "output_type": "execute_result"
    }
   ],
   "source": [
    "X_train.shape\n",
    "X_test.shape"
   ]
  },
  {
   "cell_type": "markdown",
   "id": "5b026450",
   "metadata": {
    "papermill": {
     "duration": 0.015202,
     "end_time": "2022-10-16T18:26:02.424347",
     "exception": false,
     "start_time": "2022-10-16T18:26:02.409145",
     "status": "completed"
    },
    "tags": []
   },
   "source": [
    "<a id='7'></a>\n",
    "<span style=\"color:pink;font-weight:600;font-size:20px;font-style:serif\">\n",
    "    One hot encode\n",
    "</span>\n",
    "\n",
    "<span style=\"color:grey;font-weight:500;font-size:20px;font-style:serif\">\n",
    "    In order for a machine learning algorithm to work with your data, it is important that all values are entrerd in a numerical (machine-readable) form. We need to first explore the datatypes present in our dataset. get_dummies from pandas library is a great tool for one hot encoding the features of a tabular dataset, like ours.\n",
    "</span>\n"
   ]
  },
  {
   "cell_type": "code",
   "execution_count": 14,
   "id": "2c1f52d2",
   "metadata": {
    "execution": {
     "iopub.execute_input": "2022-10-16T18:26:02.457436Z",
     "iopub.status.busy": "2022-10-16T18:26:02.457045Z",
     "iopub.status.idle": "2022-10-16T18:26:02.462341Z",
     "shell.execute_reply": "2022-10-16T18:26:02.461082Z"
    },
    "papermill": {
     "duration": 0.025019,
     "end_time": "2022-10-16T18:26:02.465076",
     "exception": false,
     "start_time": "2022-10-16T18:26:02.440057",
     "status": "completed"
    },
    "tags": []
   },
   "outputs": [],
   "source": [
    "def onehotencode(df):\n",
    "    encoded = pd.get_dummies(df)\n",
    "    return encoded"
   ]
  },
  {
   "cell_type": "code",
   "execution_count": 15,
   "id": "c45c2a1d",
   "metadata": {
    "execution": {
     "iopub.execute_input": "2022-10-16T18:26:02.499032Z",
     "iopub.status.busy": "2022-10-16T18:26:02.498577Z",
     "iopub.status.idle": "2022-10-16T18:26:02.537997Z",
     "shell.execute_reply": "2022-10-16T18:26:02.536814Z"
    },
    "papermill": {
     "duration": 0.059875,
     "end_time": "2022-10-16T18:26:02.540608",
     "exception": false,
     "start_time": "2022-10-16T18:26:02.480733",
     "status": "completed"
    },
    "tags": []
   },
   "outputs": [
    {
     "data": {
      "text/plain": [
       "(1095, 215)"
      ]
     },
     "execution_count": 15,
     "metadata": {},
     "output_type": "execute_result"
    }
   ],
   "source": [
    "X_train_encoded = onehotencode(X_train)\n",
    "X_train_encoded.shape"
   ]
  },
  {
   "cell_type": "code",
   "execution_count": 16,
   "id": "1ada613b",
   "metadata": {
    "execution": {
     "iopub.execute_input": "2022-10-16T18:26:02.575430Z",
     "iopub.status.busy": "2022-10-16T18:26:02.574817Z",
     "iopub.status.idle": "2022-10-16T18:26:02.606007Z",
     "shell.execute_reply": "2022-10-16T18:26:02.604721Z"
    },
    "papermill": {
     "duration": 0.051939,
     "end_time": "2022-10-16T18:26:02.608440",
     "exception": false,
     "start_time": "2022-10-16T18:26:02.556501",
     "status": "completed"
    },
    "tags": []
   },
   "outputs": [
    {
     "data": {
      "text/plain": [
       "(365, 195)"
      ]
     },
     "execution_count": 16,
     "metadata": {},
     "output_type": "execute_result"
    }
   ],
   "source": [
    "X_test_encoded = onehotencode(X_test)\n",
    "X_test_encoded.shape"
   ]
  },
  {
   "cell_type": "code",
   "execution_count": 17,
   "id": "390ae2b4",
   "metadata": {
    "execution": {
     "iopub.execute_input": "2022-10-16T18:26:02.642625Z",
     "iopub.status.busy": "2022-10-16T18:26:02.641930Z",
     "iopub.status.idle": "2022-10-16T18:26:02.648399Z",
     "shell.execute_reply": "2022-10-16T18:26:02.647363Z"
    },
    "papermill": {
     "duration": 0.026401,
     "end_time": "2022-10-16T18:26:02.650655",
     "exception": false,
     "start_time": "2022-10-16T18:26:02.624254",
     "status": "completed"
    },
    "tags": []
   },
   "outputs": [
    {
     "data": {
      "text/plain": [
       "(365,)"
      ]
     },
     "execution_count": 17,
     "metadata": {},
     "output_type": "execute_result"
    }
   ],
   "source": [
    "y_train.shape\n",
    "y_test.shape"
   ]
  },
  {
   "cell_type": "code",
   "execution_count": 18,
   "id": "674536b8",
   "metadata": {
    "execution": {
     "iopub.execute_input": "2022-10-16T18:26:02.685390Z",
     "iopub.status.busy": "2022-10-16T18:26:02.684693Z",
     "iopub.status.idle": "2022-10-16T18:26:02.699439Z",
     "shell.execute_reply": "2022-10-16T18:26:02.698043Z"
    },
    "papermill": {
     "duration": 0.035582,
     "end_time": "2022-10-16T18:26:02.702361",
     "exception": false,
     "start_time": "2022-10-16T18:26:02.666779",
     "status": "completed"
    },
    "tags": []
   },
   "outputs": [],
   "source": [
    "X_train_encoded_final , X_test_encoded_final = X_train_encoded.align(X_test_encoded, join='inner', axis=1) "
   ]
  },
  {
   "cell_type": "markdown",
   "id": "b110fcb5",
   "metadata": {
    "papermill": {
     "duration": 0.015985,
     "end_time": "2022-10-16T18:26:02.734850",
     "exception": false,
     "start_time": "2022-10-16T18:26:02.718865",
     "status": "completed"
    },
    "tags": []
   },
   "source": [
    "<a id='8'></a>\n",
    "<span style=\"color:pink;font-weight:600;font-size:20px;font-style:serif\">\n",
    "    Feature scaling\n",
    "</span>\n",
    "\n",
    "<span style=\"color:grey;font-weight:500;font-size:20px;font-style:serif\">\n",
    "    We need to bring our feature values within a comparable range, while still maintaining their independence. For this we will use the fit_transform method on the training dataset. This method learns about our data (mean and variance) and then uses this information to transform the data into a zero mean, unit variance range. We use the same information to tranform the test data as well, instead of learning the  test data as well, so that the model still is 'surprised' by the test data (so no-peeking!)\n",
    "</span>"
   ]
  },
  {
   "cell_type": "code",
   "execution_count": 19,
   "id": "ed5ba5eb",
   "metadata": {
    "execution": {
     "iopub.execute_input": "2022-10-16T18:26:02.768713Z",
     "iopub.status.busy": "2022-10-16T18:26:02.768279Z",
     "iopub.status.idle": "2022-10-16T18:26:02.790169Z",
     "shell.execute_reply": "2022-10-16T18:26:02.789018Z"
    },
    "papermill": {
     "duration": 0.041836,
     "end_time": "2022-10-16T18:26:02.792789",
     "exception": false,
     "start_time": "2022-10-16T18:26:02.750953",
     "status": "completed"
    },
    "tags": []
   },
   "outputs": [],
   "source": [
    "scaler = StandardScaler()\n",
    "X_train_encoded_scaled = scaler.fit_transform(X_train_encoded_final)\n",
    "X_test_encoded_scaled = scaler.transform(X_test_encoded_final)"
   ]
  },
  {
   "cell_type": "code",
   "execution_count": 20,
   "id": "24a9298f",
   "metadata": {
    "execution": {
     "iopub.execute_input": "2022-10-16T18:26:02.826847Z",
     "iopub.status.busy": "2022-10-16T18:26:02.826432Z",
     "iopub.status.idle": "2022-10-16T18:26:02.833804Z",
     "shell.execute_reply": "2022-10-16T18:26:02.832658Z"
    },
    "papermill": {
     "duration": 0.027283,
     "end_time": "2022-10-16T18:26:02.836069",
     "exception": false,
     "start_time": "2022-10-16T18:26:02.808786",
     "status": "completed"
    },
    "tags": []
   },
   "outputs": [
    {
     "data": {
      "text/plain": [
       "(365, 191)"
      ]
     },
     "execution_count": 20,
     "metadata": {},
     "output_type": "execute_result"
    }
   ],
   "source": [
    "X_train_encoded_scaled.shape\n",
    "X_test_encoded_scaled.shape"
   ]
  },
  {
   "cell_type": "markdown",
   "id": "3468684b",
   "metadata": {
    "papermill": {
     "duration": 0.01619,
     "end_time": "2022-10-16T18:26:02.868149",
     "exception": false,
     "start_time": "2022-10-16T18:26:02.851959",
     "status": "completed"
    },
    "tags": []
   },
   "source": [
    "<span style=\"color:pink;font-weight:600;font-size:16px;font-style:serif\">\n",
    "    Choosing a Machine Learning Model\n",
    "</span>\n",
    "\n",
    "\n",
    "    We choose the machine learning model according to the problem we are trying to solve. Since our data is already labeled (Malignant/Benign), we will use the supervised learning approach. Two different kinds of problems in supervised learning are classification and regression. Since our aim is to categorize the data into malignant or benign, we are dealing with a classification problem.\n",
    "    Here, we will use a logistic regression model.\n",
    "\n",
    "![alt text for screen readers](https://www.frontiersin.org/files/Articles/284242/fnagi-09-00329-HTML/image_m/fnagi-09-00329-g001.jpg)\n",
    "\n",
    "\n",
    "**Source:** Sarica, Cerasa & Quattrone, 2017\n",
    "\n",
    "<span style=\"color:pink;font-weight:600;font-size:16px;font-style:serif\">\n",
    "    What is a Random Forest Regressor?\n",
    "</span>\n",
    "\n",
    "    - Random Forest Regression is a supervised learning algorithm, used for regression tasks. It uses the ensemble learning method, which is a technique that combines predictions from several machine learning algorithms to make a predition, enabling it t make more accurate predtions than a single model.\n",
    "\n",
    "    - For this, a Random Forest constructs several decision trees during model training, and uses the result from all these trees togenerate a strong prediction. This is a very powerful method, however with a caveat. Overfitting can easily occur in a Random Forest model. It is advantageos to test outputs from several values of tree depth to determine the optimal tree depth. Mean absolute error is a useful metric to do this. \n",
    "\n",
    "![alt text for screen readers](https://www.kdnuggets.com/wp-content/uploads/rand-forest-2.jpg \"Credits: kdnuggets.com\")\n"
   ]
  },
  {
   "cell_type": "markdown",
   "id": "2c3b4098",
   "metadata": {
    "papermill": {
     "duration": 0.015627,
     "end_time": "2022-10-16T18:26:02.900008",
     "exception": false,
     "start_time": "2022-10-16T18:26:02.884381",
     "status": "completed"
    },
    "tags": []
   },
   "source": [
    "<a id='9'></a>\n",
    "<span style=\"color:pink;font-weight:600;font-size:25px;font-style:serif\">\n",
    "    Random Forest Regressor\n",
    "</span>\n",
    "\n",
    "[Top](#21)\n"
   ]
  },
  {
   "cell_type": "code",
   "execution_count": 21,
   "id": "8ee90b2e",
   "metadata": {
    "execution": {
     "iopub.execute_input": "2022-10-16T18:26:02.934212Z",
     "iopub.status.busy": "2022-10-16T18:26:02.933785Z",
     "iopub.status.idle": "2022-10-16T18:26:05.003342Z",
     "shell.execute_reply": "2022-10-16T18:26:05.002185Z"
    },
    "papermill": {
     "duration": 2.089937,
     "end_time": "2022-10-16T18:26:05.005826",
     "exception": false,
     "start_time": "2022-10-16T18:26:02.915889",
     "status": "completed"
    },
    "tags": []
   },
   "outputs": [
    {
     "data": {
      "text/plain": [
       "RandomForestRegressor(random_state=0)"
      ]
     },
     "execution_count": 21,
     "metadata": {},
     "output_type": "execute_result"
    }
   ],
   "source": [
    "# Define a random forest model\n",
    "rf_model = RandomForestRegressor(random_state=0)\n",
    "rf_model.fit(X_train_encoded_scaled, y_train)"
   ]
  },
  {
   "cell_type": "markdown",
   "id": "e9824b5e",
   "metadata": {
    "papermill": {
     "duration": 0.016382,
     "end_time": "2022-10-16T18:26:05.038859",
     "exception": false,
     "start_time": "2022-10-16T18:26:05.022477",
     "status": "completed"
    },
    "tags": []
   },
   "source": [
    "<a id='10'></a>\n",
    "<span style=\"color:pink;font-weight:600;font-size:20px;font-style:serif\">\n",
    "    Performance evaluation\n",
    "</span>\n",
    "\n",
    "<span style=\"color:grey;font-weight:500;font-size:20px;font-style:serif\">\n",
    "    Now that we have our model, it is important to do a basic evaluation, to see how our model is performing. The mean_absolute_error is a simple way to observe this. It calculates the mean absolute error regression loss, using the true values and predicted values of the prediction target, in our case, the final price of the house. Note: The order in which the arguments are provided does not matter.\n",
    "</span>"
   ]
  },
  {
   "cell_type": "code",
   "execution_count": 22,
   "id": "e723aa68",
   "metadata": {
    "execution": {
     "iopub.execute_input": "2022-10-16T18:26:05.073553Z",
     "iopub.status.busy": "2022-10-16T18:26:05.073153Z",
     "iopub.status.idle": "2022-10-16T18:26:05.102455Z",
     "shell.execute_reply": "2022-10-16T18:26:05.101013Z"
    },
    "papermill": {
     "duration": 0.050516,
     "end_time": "2022-10-16T18:26:05.106296",
     "exception": false,
     "start_time": "2022-10-16T18:26:05.055780",
     "status": "completed"
    },
    "tags": []
   },
   "outputs": [
    {
     "name": "stdout",
     "output_type": "stream",
     "text": [
      "Validation MAE for Random Forest Model: 15,507\n"
     ]
    }
   ],
   "source": [
    "rf_val_predictions = rf_model.predict(X_test_encoded_scaled)\n",
    "rf_val_mae = mean_absolute_error(rf_val_predictions, y_test)\n",
    "\n",
    "print(\"Validation MAE for Random Forest Model: {:,.0f}\".format(rf_val_mae))"
   ]
  },
  {
   "cell_type": "code",
   "execution_count": 23,
   "id": "4929d97e",
   "metadata": {
    "execution": {
     "iopub.execute_input": "2022-10-16T18:26:05.142196Z",
     "iopub.status.busy": "2022-10-16T18:26:05.141605Z",
     "iopub.status.idle": "2022-10-16T18:26:05.149348Z",
     "shell.execute_reply": "2022-10-16T18:26:05.148173Z"
    },
    "papermill": {
     "duration": 0.029317,
     "end_time": "2022-10-16T18:26:05.152042",
     "exception": false,
     "start_time": "2022-10-16T18:26:05.122725",
     "status": "completed"
    },
    "tags": []
   },
   "outputs": [
    {
     "data": {
      "text/plain": [
       "(365,)"
      ]
     },
     "execution_count": 23,
     "metadata": {},
     "output_type": "execute_result"
    }
   ],
   "source": [
    "rf_val_predictions.shape\n",
    "y_test.shape"
   ]
  },
  {
   "cell_type": "markdown",
   "id": "b8acd870",
   "metadata": {
    "papermill": {
     "duration": 0.016776,
     "end_time": "2022-10-16T18:26:05.185154",
     "exception": false,
     "start_time": "2022-10-16T18:26:05.168378",
     "status": "completed"
    },
    "tags": []
   },
   "source": [
    "<a id='11'></a>\n",
    "<span style=\"color:pink;font-weight:600;font-size:20px;font-style:serif\">\n",
    "    Train model on all data\n",
    "</span>\n"
   ]
  },
  {
   "cell_type": "code",
   "execution_count": 24,
   "id": "4a8b8d64",
   "metadata": {
    "execution": {
     "iopub.execute_input": "2022-10-16T18:26:05.221065Z",
     "iopub.status.busy": "2022-10-16T18:26:05.220657Z",
     "iopub.status.idle": "2022-10-16T18:26:08.166621Z",
     "shell.execute_reply": "2022-10-16T18:26:08.165319Z"
    },
    "papermill": {
     "duration": 2.966646,
     "end_time": "2022-10-16T18:26:08.169361",
     "exception": false,
     "start_time": "2022-10-16T18:26:05.202715",
     "status": "completed"
    },
    "tags": []
   },
   "outputs": [
    {
     "data": {
      "text/plain": [
       "RandomForestRegressor(random_state=0)"
      ]
     },
     "execution_count": 24,
     "metadata": {},
     "output_type": "execute_result"
    }
   ],
   "source": [
    "# To improve accuracy, create a new Random Forest model which you will train on all training data\n",
    "rf_model_on_full_data = RandomForestRegressor(random_state=0)\n",
    "\n",
    "# fit rf_model_on_full_data on all data from the training data\n",
    "X_encoded = onehotencode(X)\n",
    "scaler_2 = StandardScaler()\n",
    "X_encoded_scaled = scaler.fit_transform(X_encoded)\n",
    "\n",
    "rf_model_on_full_data.fit(X_encoded_scaled,y)"
   ]
  },
  {
   "cell_type": "markdown",
   "id": "c8094f3a",
   "metadata": {
    "papermill": {
     "duration": 0.016289,
     "end_time": "2022-10-16T18:26:08.202049",
     "exception": false,
     "start_time": "2022-10-16T18:26:08.185760",
     "status": "completed"
    },
    "tags": []
   },
   "source": [
    "<a id='12'></a>\n",
    "<span style=\"color:pink;font-weight:600;font-size:25px;font-style:serif\">\n",
    "    Load raw data for prediction\n",
    "</span>\n",
    "\n",
    "<span style=\"color:grey;font-weight:500;font-size:20px;font-style:serif\">\n",
    "This data will be refered to as test data from now on, not to be consfused with validation data used to assess model performance after model training\n",
    "</span>"
   ]
  },
  {
   "cell_type": "code",
   "execution_count": 25,
   "id": "d194a90e",
   "metadata": {
    "execution": {
     "iopub.execute_input": "2022-10-16T18:26:08.237366Z",
     "iopub.status.busy": "2022-10-16T18:26:08.236354Z",
     "iopub.status.idle": "2022-10-16T18:26:08.278076Z",
     "shell.execute_reply": "2022-10-16T18:26:08.277072Z"
    },
    "papermill": {
     "duration": 0.061974,
     "end_time": "2022-10-16T18:26:08.280439",
     "exception": false,
     "start_time": "2022-10-16T18:26:08.218465",
     "status": "completed"
    },
    "tags": []
   },
   "outputs": [
    {
     "data": {
      "text/plain": [
       "(1459, 80)"
      ]
     },
     "execution_count": 25,
     "metadata": {},
     "output_type": "execute_result"
    }
   ],
   "source": [
    "# path to file you will use for predictions\n",
    "test_data_path = '../input/test.csv'\n",
    "\n",
    "# read test data file using pandas\n",
    "test_data = pd.read_csv(test_data_path)\n",
    "test_data.shape"
   ]
  },
  {
   "cell_type": "markdown",
   "id": "df65fbf8",
   "metadata": {
    "papermill": {
     "duration": 0.016337,
     "end_time": "2022-10-16T18:26:08.313489",
     "exception": false,
     "start_time": "2022-10-16T18:26:08.297152",
     "status": "completed"
    },
    "tags": []
   },
   "source": [
    "<a id='13'></a>\n",
    "<span style=\"color:pink;font-weight:600;font-size:25px;font-style:serif\">\n",
    "    Test-data preprocessing\n",
    "</span>\n",
    "\n",
    "<span style=\"color:grey;font-weight:500;font-size:20px;font-style:serif\">\n",
    "Test data must match the structure that the random forest model is expecting\n",
    "</span>"
   ]
  },
  {
   "cell_type": "code",
   "execution_count": 26,
   "id": "07e2484d",
   "metadata": {
    "execution": {
     "iopub.execute_input": "2022-10-16T18:26:08.348094Z",
     "iopub.status.busy": "2022-10-16T18:26:08.347665Z",
     "iopub.status.idle": "2022-10-16T18:26:08.374446Z",
     "shell.execute_reply": "2022-10-16T18:26:08.373392Z"
    },
    "papermill": {
     "duration": 0.047169,
     "end_time": "2022-10-16T18:26:08.377039",
     "exception": false,
     "start_time": "2022-10-16T18:26:08.329870",
     "status": "completed"
    },
    "tags": []
   },
   "outputs": [
    {
     "data": {
      "text/html": [
       "<div>\n",
       "<style scoped>\n",
       "    .dataframe tbody tr th:only-of-type {\n",
       "        vertical-align: middle;\n",
       "    }\n",
       "\n",
       "    .dataframe tbody tr th {\n",
       "        vertical-align: top;\n",
       "    }\n",
       "\n",
       "    .dataframe thead th {\n",
       "        text-align: right;\n",
       "    }\n",
       "</style>\n",
       "<table border=\"1\" class=\"dataframe\">\n",
       "  <thead>\n",
       "    <tr style=\"text-align: right;\">\n",
       "      <th></th>\n",
       "      <th>Id</th>\n",
       "      <th>MSSubClass</th>\n",
       "      <th>MSZoning</th>\n",
       "      <th>LotFrontage</th>\n",
       "      <th>LotArea</th>\n",
       "      <th>Street</th>\n",
       "      <th>Alley</th>\n",
       "      <th>LotShape</th>\n",
       "      <th>LandContour</th>\n",
       "      <th>Utilities</th>\n",
       "      <th>...</th>\n",
       "      <th>ScreenPorch</th>\n",
       "      <th>PoolArea</th>\n",
       "      <th>PoolQC</th>\n",
       "      <th>Fence</th>\n",
       "      <th>MiscFeature</th>\n",
       "      <th>MiscVal</th>\n",
       "      <th>MoSold</th>\n",
       "      <th>YrSold</th>\n",
       "      <th>SaleType</th>\n",
       "      <th>SaleCondition</th>\n",
       "    </tr>\n",
       "  </thead>\n",
       "  <tbody>\n",
       "    <tr>\n",
       "      <th>0</th>\n",
       "      <td>1461</td>\n",
       "      <td>20</td>\n",
       "      <td>RH</td>\n",
       "      <td>80.0</td>\n",
       "      <td>11622</td>\n",
       "      <td>Pave</td>\n",
       "      <td>NaN</td>\n",
       "      <td>Reg</td>\n",
       "      <td>Lvl</td>\n",
       "      <td>AllPub</td>\n",
       "      <td>...</td>\n",
       "      <td>120</td>\n",
       "      <td>0</td>\n",
       "      <td>NaN</td>\n",
       "      <td>MnPrv</td>\n",
       "      <td>NaN</td>\n",
       "      <td>0</td>\n",
       "      <td>6</td>\n",
       "      <td>2010</td>\n",
       "      <td>WD</td>\n",
       "      <td>Normal</td>\n",
       "    </tr>\n",
       "    <tr>\n",
       "      <th>1</th>\n",
       "      <td>1462</td>\n",
       "      <td>20</td>\n",
       "      <td>RL</td>\n",
       "      <td>81.0</td>\n",
       "      <td>14267</td>\n",
       "      <td>Pave</td>\n",
       "      <td>NaN</td>\n",
       "      <td>IR1</td>\n",
       "      <td>Lvl</td>\n",
       "      <td>AllPub</td>\n",
       "      <td>...</td>\n",
       "      <td>0</td>\n",
       "      <td>0</td>\n",
       "      <td>NaN</td>\n",
       "      <td>NaN</td>\n",
       "      <td>Gar2</td>\n",
       "      <td>12500</td>\n",
       "      <td>6</td>\n",
       "      <td>2010</td>\n",
       "      <td>WD</td>\n",
       "      <td>Normal</td>\n",
       "    </tr>\n",
       "    <tr>\n",
       "      <th>2</th>\n",
       "      <td>1463</td>\n",
       "      <td>60</td>\n",
       "      <td>RL</td>\n",
       "      <td>74.0</td>\n",
       "      <td>13830</td>\n",
       "      <td>Pave</td>\n",
       "      <td>NaN</td>\n",
       "      <td>IR1</td>\n",
       "      <td>Lvl</td>\n",
       "      <td>AllPub</td>\n",
       "      <td>...</td>\n",
       "      <td>0</td>\n",
       "      <td>0</td>\n",
       "      <td>NaN</td>\n",
       "      <td>MnPrv</td>\n",
       "      <td>NaN</td>\n",
       "      <td>0</td>\n",
       "      <td>3</td>\n",
       "      <td>2010</td>\n",
       "      <td>WD</td>\n",
       "      <td>Normal</td>\n",
       "    </tr>\n",
       "    <tr>\n",
       "      <th>3</th>\n",
       "      <td>1464</td>\n",
       "      <td>60</td>\n",
       "      <td>RL</td>\n",
       "      <td>78.0</td>\n",
       "      <td>9978</td>\n",
       "      <td>Pave</td>\n",
       "      <td>NaN</td>\n",
       "      <td>IR1</td>\n",
       "      <td>Lvl</td>\n",
       "      <td>AllPub</td>\n",
       "      <td>...</td>\n",
       "      <td>0</td>\n",
       "      <td>0</td>\n",
       "      <td>NaN</td>\n",
       "      <td>NaN</td>\n",
       "      <td>NaN</td>\n",
       "      <td>0</td>\n",
       "      <td>6</td>\n",
       "      <td>2010</td>\n",
       "      <td>WD</td>\n",
       "      <td>Normal</td>\n",
       "    </tr>\n",
       "    <tr>\n",
       "      <th>4</th>\n",
       "      <td>1465</td>\n",
       "      <td>120</td>\n",
       "      <td>RL</td>\n",
       "      <td>43.0</td>\n",
       "      <td>5005</td>\n",
       "      <td>Pave</td>\n",
       "      <td>NaN</td>\n",
       "      <td>IR1</td>\n",
       "      <td>HLS</td>\n",
       "      <td>AllPub</td>\n",
       "      <td>...</td>\n",
       "      <td>144</td>\n",
       "      <td>0</td>\n",
       "      <td>NaN</td>\n",
       "      <td>NaN</td>\n",
       "      <td>NaN</td>\n",
       "      <td>0</td>\n",
       "      <td>1</td>\n",
       "      <td>2010</td>\n",
       "      <td>WD</td>\n",
       "      <td>Normal</td>\n",
       "    </tr>\n",
       "  </tbody>\n",
       "</table>\n",
       "<p>5 rows × 80 columns</p>\n",
       "</div>"
      ],
      "text/plain": [
       "     Id  MSSubClass MSZoning  LotFrontage  LotArea Street Alley LotShape  \\\n",
       "0  1461          20       RH         80.0    11622   Pave   NaN      Reg   \n",
       "1  1462          20       RL         81.0    14267   Pave   NaN      IR1   \n",
       "2  1463          60       RL         74.0    13830   Pave   NaN      IR1   \n",
       "3  1464          60       RL         78.0     9978   Pave   NaN      IR1   \n",
       "4  1465         120       RL         43.0     5005   Pave   NaN      IR1   \n",
       "\n",
       "  LandContour Utilities  ... ScreenPorch PoolArea PoolQC  Fence MiscFeature  \\\n",
       "0         Lvl    AllPub  ...         120        0    NaN  MnPrv         NaN   \n",
       "1         Lvl    AllPub  ...           0        0    NaN    NaN        Gar2   \n",
       "2         Lvl    AllPub  ...           0        0    NaN  MnPrv         NaN   \n",
       "3         Lvl    AllPub  ...           0        0    NaN    NaN         NaN   \n",
       "4         HLS    AllPub  ...         144        0    NaN    NaN         NaN   \n",
       "\n",
       "  MiscVal MoSold  YrSold  SaleType  SaleCondition  \n",
       "0       0      6    2010        WD         Normal  \n",
       "1   12500      6    2010        WD         Normal  \n",
       "2       0      3    2010        WD         Normal  \n",
       "3       0      6    2010        WD         Normal  \n",
       "4       0      1    2010        WD         Normal  \n",
       "\n",
       "[5 rows x 80 columns]"
      ]
     },
     "execution_count": 26,
     "metadata": {},
     "output_type": "execute_result"
    }
   ],
   "source": [
    "test_data.head()"
   ]
  },
  {
   "cell_type": "markdown",
   "id": "24af4407",
   "metadata": {
    "papermill": {
     "duration": 0.017015,
     "end_time": "2022-10-16T18:26:08.411984",
     "exception": false,
     "start_time": "2022-10-16T18:26:08.394969",
     "status": "completed"
    },
    "tags": []
   },
   "source": [
    "<a id='14'></a>\n",
    "<span style=\"color:pink;font-weight:600;font-size:20px;font-style:serif\">\n",
    "    Feature match with training data\n",
    "</span>\n",
    "\n",
    "<span style=\"color:grey;font-weight:500;font-size:20px;font-style:serif\">\n",
    "Training data and test data must have the same features (columns)\n",
    "    </span>\n",
    "    \n",
    "    \n",
    "\n",
    "\n"
   ]
  },
  {
   "cell_type": "code",
   "execution_count": 27,
   "id": "a2f506f7",
   "metadata": {
    "execution": {
     "iopub.execute_input": "2022-10-16T18:26:08.447268Z",
     "iopub.status.busy": "2022-10-16T18:26:08.446872Z",
     "iopub.status.idle": "2022-10-16T18:26:08.455436Z",
     "shell.execute_reply": "2022-10-16T18:26:08.454233Z"
    },
    "papermill": {
     "duration": 0.02877,
     "end_time": "2022-10-16T18:26:08.457653",
     "exception": false,
     "start_time": "2022-10-16T18:26:08.428883",
     "status": "completed"
    },
    "tags": []
   },
   "outputs": [
    {
     "data": {
      "text/plain": [
       "(1459, 61)"
      ]
     },
     "execution_count": 27,
     "metadata": {},
     "output_type": "execute_result"
    }
   ],
   "source": [
    "test_data = test_data[corr_cols]\n",
    "test_data.shape"
   ]
  },
  {
   "cell_type": "code",
   "execution_count": 28,
   "id": "8e50755f",
   "metadata": {
    "execution": {
     "iopub.execute_input": "2022-10-16T18:26:08.494687Z",
     "iopub.status.busy": "2022-10-16T18:26:08.494223Z",
     "iopub.status.idle": "2022-10-16T18:26:08.517102Z",
     "shell.execute_reply": "2022-10-16T18:26:08.515764Z"
    },
    "papermill": {
     "duration": 0.044106,
     "end_time": "2022-10-16T18:26:08.519368",
     "exception": false,
     "start_time": "2022-10-16T18:26:08.475262",
     "status": "completed"
    },
    "tags": []
   },
   "outputs": [
    {
     "data": {
      "text/html": [
       "<div>\n",
       "<style scoped>\n",
       "    .dataframe tbody tr th:only-of-type {\n",
       "        vertical-align: middle;\n",
       "    }\n",
       "\n",
       "    .dataframe tbody tr th {\n",
       "        vertical-align: top;\n",
       "    }\n",
       "\n",
       "    .dataframe thead th {\n",
       "        text-align: right;\n",
       "    }\n",
       "</style>\n",
       "<table border=\"1\" class=\"dataframe\">\n",
       "  <thead>\n",
       "    <tr style=\"text-align: right;\">\n",
       "      <th></th>\n",
       "      <th>Id</th>\n",
       "      <th>MSSubClass</th>\n",
       "      <th>MSZoning</th>\n",
       "      <th>LotArea</th>\n",
       "      <th>Street</th>\n",
       "      <th>LotShape</th>\n",
       "      <th>LandContour</th>\n",
       "      <th>Utilities</th>\n",
       "      <th>LotConfig</th>\n",
       "      <th>LandSlope</th>\n",
       "      <th>...</th>\n",
       "      <th>OpenPorchSF</th>\n",
       "      <th>EnclosedPorch</th>\n",
       "      <th>3SsnPorch</th>\n",
       "      <th>ScreenPorch</th>\n",
       "      <th>PoolArea</th>\n",
       "      <th>MiscVal</th>\n",
       "      <th>MoSold</th>\n",
       "      <th>YrSold</th>\n",
       "      <th>SaleType</th>\n",
       "      <th>SaleCondition</th>\n",
       "    </tr>\n",
       "  </thead>\n",
       "  <tbody>\n",
       "    <tr>\n",
       "      <th>0</th>\n",
       "      <td>1461</td>\n",
       "      <td>20</td>\n",
       "      <td>RH</td>\n",
       "      <td>11622</td>\n",
       "      <td>Pave</td>\n",
       "      <td>Reg</td>\n",
       "      <td>Lvl</td>\n",
       "      <td>AllPub</td>\n",
       "      <td>Inside</td>\n",
       "      <td>Gtl</td>\n",
       "      <td>...</td>\n",
       "      <td>0</td>\n",
       "      <td>0</td>\n",
       "      <td>0</td>\n",
       "      <td>120</td>\n",
       "      <td>0</td>\n",
       "      <td>0</td>\n",
       "      <td>6</td>\n",
       "      <td>2010</td>\n",
       "      <td>WD</td>\n",
       "      <td>Normal</td>\n",
       "    </tr>\n",
       "    <tr>\n",
       "      <th>1</th>\n",
       "      <td>1462</td>\n",
       "      <td>20</td>\n",
       "      <td>RL</td>\n",
       "      <td>14267</td>\n",
       "      <td>Pave</td>\n",
       "      <td>IR1</td>\n",
       "      <td>Lvl</td>\n",
       "      <td>AllPub</td>\n",
       "      <td>Corner</td>\n",
       "      <td>Gtl</td>\n",
       "      <td>...</td>\n",
       "      <td>36</td>\n",
       "      <td>0</td>\n",
       "      <td>0</td>\n",
       "      <td>0</td>\n",
       "      <td>0</td>\n",
       "      <td>12500</td>\n",
       "      <td>6</td>\n",
       "      <td>2010</td>\n",
       "      <td>WD</td>\n",
       "      <td>Normal</td>\n",
       "    </tr>\n",
       "    <tr>\n",
       "      <th>2</th>\n",
       "      <td>1463</td>\n",
       "      <td>60</td>\n",
       "      <td>RL</td>\n",
       "      <td>13830</td>\n",
       "      <td>Pave</td>\n",
       "      <td>IR1</td>\n",
       "      <td>Lvl</td>\n",
       "      <td>AllPub</td>\n",
       "      <td>Inside</td>\n",
       "      <td>Gtl</td>\n",
       "      <td>...</td>\n",
       "      <td>34</td>\n",
       "      <td>0</td>\n",
       "      <td>0</td>\n",
       "      <td>0</td>\n",
       "      <td>0</td>\n",
       "      <td>0</td>\n",
       "      <td>3</td>\n",
       "      <td>2010</td>\n",
       "      <td>WD</td>\n",
       "      <td>Normal</td>\n",
       "    </tr>\n",
       "    <tr>\n",
       "      <th>3</th>\n",
       "      <td>1464</td>\n",
       "      <td>60</td>\n",
       "      <td>RL</td>\n",
       "      <td>9978</td>\n",
       "      <td>Pave</td>\n",
       "      <td>IR1</td>\n",
       "      <td>Lvl</td>\n",
       "      <td>AllPub</td>\n",
       "      <td>Inside</td>\n",
       "      <td>Gtl</td>\n",
       "      <td>...</td>\n",
       "      <td>36</td>\n",
       "      <td>0</td>\n",
       "      <td>0</td>\n",
       "      <td>0</td>\n",
       "      <td>0</td>\n",
       "      <td>0</td>\n",
       "      <td>6</td>\n",
       "      <td>2010</td>\n",
       "      <td>WD</td>\n",
       "      <td>Normal</td>\n",
       "    </tr>\n",
       "    <tr>\n",
       "      <th>4</th>\n",
       "      <td>1465</td>\n",
       "      <td>120</td>\n",
       "      <td>RL</td>\n",
       "      <td>5005</td>\n",
       "      <td>Pave</td>\n",
       "      <td>IR1</td>\n",
       "      <td>HLS</td>\n",
       "      <td>AllPub</td>\n",
       "      <td>Inside</td>\n",
       "      <td>Gtl</td>\n",
       "      <td>...</td>\n",
       "      <td>82</td>\n",
       "      <td>0</td>\n",
       "      <td>0</td>\n",
       "      <td>144</td>\n",
       "      <td>0</td>\n",
       "      <td>0</td>\n",
       "      <td>1</td>\n",
       "      <td>2010</td>\n",
       "      <td>WD</td>\n",
       "      <td>Normal</td>\n",
       "    </tr>\n",
       "  </tbody>\n",
       "</table>\n",
       "<p>5 rows × 61 columns</p>\n",
       "</div>"
      ],
      "text/plain": [
       "     Id  MSSubClass MSZoning  LotArea Street LotShape LandContour Utilities  \\\n",
       "0  1461          20       RH    11622   Pave      Reg         Lvl    AllPub   \n",
       "1  1462          20       RL    14267   Pave      IR1         Lvl    AllPub   \n",
       "2  1463          60       RL    13830   Pave      IR1         Lvl    AllPub   \n",
       "3  1464          60       RL     9978   Pave      IR1         Lvl    AllPub   \n",
       "4  1465         120       RL     5005   Pave      IR1         HLS    AllPub   \n",
       "\n",
       "  LotConfig LandSlope  ... OpenPorchSF EnclosedPorch 3SsnPorch ScreenPorch  \\\n",
       "0    Inside       Gtl  ...           0             0         0         120   \n",
       "1    Corner       Gtl  ...          36             0         0           0   \n",
       "2    Inside       Gtl  ...          34             0         0           0   \n",
       "3    Inside       Gtl  ...          36             0         0           0   \n",
       "4    Inside       Gtl  ...          82             0         0         144   \n",
       "\n",
       "  PoolArea  MiscVal  MoSold  YrSold  SaleType SaleCondition  \n",
       "0        0        0       6    2010        WD        Normal  \n",
       "1        0    12500       6    2010        WD        Normal  \n",
       "2        0        0       3    2010        WD        Normal  \n",
       "3        0        0       6    2010        WD        Normal  \n",
       "4        0        0       1    2010        WD        Normal  \n",
       "\n",
       "[5 rows x 61 columns]"
      ]
     },
     "execution_count": 28,
     "metadata": {},
     "output_type": "execute_result"
    }
   ],
   "source": [
    "test_data.head()"
   ]
  },
  {
   "cell_type": "markdown",
   "id": "04843dc0",
   "metadata": {
    "papermill": {
     "duration": 0.017669,
     "end_time": "2022-10-16T18:26:08.555140",
     "exception": false,
     "start_time": "2022-10-16T18:26:08.537471",
     "status": "completed"
    },
    "tags": []
   },
   "source": [
    "<a id='15'></a>\n",
    "<span style=\"color:pink;font-weight:600;font-size:20px;font-style:serif\">\n",
    "    Featre engineering\n",
    "</span>\n"
   ]
  },
  {
   "cell_type": "code",
   "execution_count": 29,
   "id": "c151c5b9",
   "metadata": {
    "execution": {
     "iopub.execute_input": "2022-10-16T18:26:08.591437Z",
     "iopub.status.busy": "2022-10-16T18:26:08.591000Z",
     "iopub.status.idle": "2022-10-16T18:26:08.601691Z",
     "shell.execute_reply": "2022-10-16T18:26:08.600499Z"
    },
    "papermill": {
     "duration": 0.031794,
     "end_time": "2022-10-16T18:26:08.604148",
     "exception": false,
     "start_time": "2022-10-16T18:26:08.572354",
     "status": "completed"
    },
    "tags": []
   },
   "outputs": [
    {
     "data": {
      "text/plain": [
       "(1459, 64)"
      ]
     },
     "execution_count": 29,
     "metadata": {},
     "output_type": "execute_result"
    }
   ],
   "source": [
    "test_data = create_extra_features(test_data)\n",
    "test_data.shape"
   ]
  },
  {
   "cell_type": "markdown",
   "id": "7537b458",
   "metadata": {
    "papermill": {
     "duration": 0.01703,
     "end_time": "2022-10-16T18:26:08.638956",
     "exception": false,
     "start_time": "2022-10-16T18:26:08.621926",
     "status": "completed"
    },
    "tags": []
   },
   "source": [
    "<a id='16'></a>\n",
    "<span style=\"color:pink;font-weight:600;font-size:20px;font-style:serif\">\n",
    "    Replace null values\n",
    "</span>\n"
   ]
  },
  {
   "cell_type": "code",
   "execution_count": 30,
   "id": "b1eec6e4",
   "metadata": {
    "execution": {
     "iopub.execute_input": "2022-10-16T18:26:08.676020Z",
     "iopub.status.busy": "2022-10-16T18:26:08.675562Z",
     "iopub.status.idle": "2022-10-16T18:26:08.691233Z",
     "shell.execute_reply": "2022-10-16T18:26:08.689861Z"
    },
    "papermill": {
     "duration": 0.037341,
     "end_time": "2022-10-16T18:26:08.693827",
     "exception": false,
     "start_time": "2022-10-16T18:26:08.656486",
     "status": "completed"
    },
    "tags": []
   },
   "outputs": [
    {
     "data": {
      "text/plain": [
       "Id                    0\n",
       "MSSubClass            0\n",
       "MSZoning              4\n",
       "LotArea               0\n",
       "Street                0\n",
       "                     ..\n",
       "SaleType              1\n",
       "SaleCondition         0\n",
       "TotBath               2\n",
       "Total_Home_Quality    0\n",
       "HighQualSF            0\n",
       "Length: 64, dtype: int64"
      ]
     },
     "execution_count": 30,
     "metadata": {},
     "output_type": "execute_result"
    }
   ],
   "source": [
    "test_data.isna().sum()"
   ]
  },
  {
   "cell_type": "code",
   "execution_count": 31,
   "id": "6121fffa",
   "metadata": {
    "execution": {
     "iopub.execute_input": "2022-10-16T18:26:08.731460Z",
     "iopub.status.busy": "2022-10-16T18:26:08.731061Z",
     "iopub.status.idle": "2022-10-16T18:26:08.752142Z",
     "shell.execute_reply": "2022-10-16T18:26:08.751144Z"
    },
    "papermill": {
     "duration": 0.042632,
     "end_time": "2022-10-16T18:26:08.754444",
     "exception": false,
     "start_time": "2022-10-16T18:26:08.711812",
     "status": "completed"
    },
    "tags": []
   },
   "outputs": [
    {
     "data": {
      "text/plain": [
       "Id                    0\n",
       "MSSubClass            0\n",
       "MSZoning              0\n",
       "LotArea               0\n",
       "Street                0\n",
       "                     ..\n",
       "SaleType              0\n",
       "SaleCondition         0\n",
       "TotBath               0\n",
       "Total_Home_Quality    0\n",
       "HighQualSF            0\n",
       "Length: 64, dtype: int64"
      ]
     },
     "execution_count": 31,
     "metadata": {},
     "output_type": "execute_result"
    }
   ],
   "source": [
    "test_data = test_data.fillna(0)           \n",
    "test_data.isna().sum()"
   ]
  },
  {
   "cell_type": "markdown",
   "id": "86110a93",
   "metadata": {
    "papermill": {
     "duration": 0.017202,
     "end_time": "2022-10-16T18:26:08.789382",
     "exception": false,
     "start_time": "2022-10-16T18:26:08.772180",
     "status": "completed"
    },
    "tags": []
   },
   "source": [
    "<a id='17'></a>\n",
    "<span style=\"color:pink;font-weight:600;font-size:20px;font-style:serif\">\n",
    "    One hot encode\n",
    "</span>\n"
   ]
  },
  {
   "cell_type": "code",
   "execution_count": 32,
   "id": "462b6e34",
   "metadata": {
    "execution": {
     "iopub.execute_input": "2022-10-16T18:26:08.826454Z",
     "iopub.status.busy": "2022-10-16T18:26:08.826022Z",
     "iopub.status.idle": "2022-10-16T18:26:08.862181Z",
     "shell.execute_reply": "2022-10-16T18:26:08.860581Z"
    },
    "papermill": {
     "duration": 0.057918,
     "end_time": "2022-10-16T18:26:08.864872",
     "exception": false,
     "start_time": "2022-10-16T18:26:08.806954",
     "status": "completed"
    },
    "tags": []
   },
   "outputs": [],
   "source": [
    "test_data = pd.get_dummies(test_data)"
   ]
  },
  {
   "cell_type": "code",
   "execution_count": 33,
   "id": "a1e3a206",
   "metadata": {
    "execution": {
     "iopub.execute_input": "2022-10-16T18:26:08.901702Z",
     "iopub.status.busy": "2022-10-16T18:26:08.901249Z",
     "iopub.status.idle": "2022-10-16T18:26:08.908469Z",
     "shell.execute_reply": "2022-10-16T18:26:08.907370Z"
    },
    "papermill": {
     "duration": 0.028253,
     "end_time": "2022-10-16T18:26:08.910782",
     "exception": false,
     "start_time": "2022-10-16T18:26:08.882529",
     "status": "completed"
    },
    "tags": []
   },
   "outputs": [
    {
     "data": {
      "text/plain": [
       "(1459, 212)"
      ]
     },
     "execution_count": 33,
     "metadata": {},
     "output_type": "execute_result"
    }
   ],
   "source": [
    "test_data.shape"
   ]
  },
  {
   "cell_type": "code",
   "execution_count": 34,
   "id": "ce99b47d",
   "metadata": {
    "execution": {
     "iopub.execute_input": "2022-10-16T18:26:08.949558Z",
     "iopub.status.busy": "2022-10-16T18:26:08.948548Z",
     "iopub.status.idle": "2022-10-16T18:26:08.955113Z",
     "shell.execute_reply": "2022-10-16T18:26:08.954152Z"
    },
    "papermill": {
     "duration": 0.028254,
     "end_time": "2022-10-16T18:26:08.957282",
     "exception": false,
     "start_time": "2022-10-16T18:26:08.929028",
     "status": "completed"
    },
    "tags": []
   },
   "outputs": [
    {
     "data": {
      "text/plain": [
       "(1460, 219)"
      ]
     },
     "execution_count": 34,
     "metadata": {},
     "output_type": "execute_result"
    }
   ],
   "source": [
    "X_encoded.shape"
   ]
  },
  {
   "cell_type": "code",
   "execution_count": 35,
   "id": "8554f6b6",
   "metadata": {
    "execution": {
     "iopub.execute_input": "2022-10-16T18:26:08.994705Z",
     "iopub.status.busy": "2022-10-16T18:26:08.994266Z",
     "iopub.status.idle": "2022-10-16T18:26:09.003764Z",
     "shell.execute_reply": "2022-10-16T18:26:09.002615Z"
    },
    "papermill": {
     "duration": 0.031132,
     "end_time": "2022-10-16T18:26:09.006244",
     "exception": false,
     "start_time": "2022-10-16T18:26:08.975112",
     "status": "completed"
    },
    "tags": []
   },
   "outputs": [],
   "source": [
    "final_train, final_test = X_encoded.align(test_data, join='left', axis=1, fill_value=0)  # inner join"
   ]
  },
  {
   "cell_type": "code",
   "execution_count": 36,
   "id": "91fe4d68",
   "metadata": {
    "execution": {
     "iopub.execute_input": "2022-10-16T18:26:09.043563Z",
     "iopub.status.busy": "2022-10-16T18:26:09.043138Z",
     "iopub.status.idle": "2022-10-16T18:26:09.050018Z",
     "shell.execute_reply": "2022-10-16T18:26:09.048901Z"
    },
    "papermill": {
     "duration": 0.028337,
     "end_time": "2022-10-16T18:26:09.052336",
     "exception": false,
     "start_time": "2022-10-16T18:26:09.023999",
     "status": "completed"
    },
    "tags": []
   },
   "outputs": [
    {
     "data": {
      "text/plain": [
       "(1459, 219)"
      ]
     },
     "execution_count": 36,
     "metadata": {},
     "output_type": "execute_result"
    }
   ],
   "source": [
    "final_test.shape"
   ]
  },
  {
   "cell_type": "code",
   "execution_count": 37,
   "id": "7331a7dc",
   "metadata": {
    "execution": {
     "iopub.execute_input": "2022-10-16T18:26:09.089949Z",
     "iopub.status.busy": "2022-10-16T18:26:09.089218Z",
     "iopub.status.idle": "2022-10-16T18:26:09.096789Z",
     "shell.execute_reply": "2022-10-16T18:26:09.095509Z"
    },
    "papermill": {
     "duration": 0.029325,
     "end_time": "2022-10-16T18:26:09.099388",
     "exception": false,
     "start_time": "2022-10-16T18:26:09.070063",
     "status": "completed"
    },
    "tags": []
   },
   "outputs": [
    {
     "data": {
      "text/plain": [
       "(1460, 219)"
      ]
     },
     "execution_count": 37,
     "metadata": {},
     "output_type": "execute_result"
    }
   ],
   "source": [
    "final_train.shape"
   ]
  },
  {
   "cell_type": "markdown",
   "id": "19f0613f",
   "metadata": {
    "papermill": {
     "duration": 0.01944,
     "end_time": "2022-10-16T18:26:09.139301",
     "exception": false,
     "start_time": "2022-10-16T18:26:09.119861",
     "status": "completed"
    },
    "tags": []
   },
   "source": [
    "<a id='18'></a>\n",
    "<span style=\"color:pink;font-weight:600;font-size:20px;font-style:serif\">\n",
    "    Feature scaling\n",
    "</span>\n"
   ]
  },
  {
   "cell_type": "code",
   "execution_count": 38,
   "id": "8842ed15",
   "metadata": {
    "execution": {
     "iopub.execute_input": "2022-10-16T18:26:09.179868Z",
     "iopub.status.busy": "2022-10-16T18:26:09.179463Z",
     "iopub.status.idle": "2022-10-16T18:26:09.197899Z",
     "shell.execute_reply": "2022-10-16T18:26:09.196513Z"
    },
    "papermill": {
     "duration": 0.041501,
     "end_time": "2022-10-16T18:26:09.200523",
     "exception": false,
     "start_time": "2022-10-16T18:26:09.159022",
     "status": "completed"
    },
    "tags": []
   },
   "outputs": [
    {
     "data": {
      "text/plain": [
       "(1459, 219)"
      ]
     },
     "execution_count": 38,
     "metadata": {},
     "output_type": "execute_result"
    }
   ],
   "source": [
    "final_test_scaled = scaler.transform(final_test)\n",
    "final_test_scaled.shape"
   ]
  },
  {
   "cell_type": "code",
   "execution_count": 39,
   "id": "ec81302e",
   "metadata": {
    "execution": {
     "iopub.execute_input": "2022-10-16T18:26:09.238864Z",
     "iopub.status.busy": "2022-10-16T18:26:09.238386Z",
     "iopub.status.idle": "2022-10-16T18:26:09.246075Z",
     "shell.execute_reply": "2022-10-16T18:26:09.244879Z"
    },
    "papermill": {
     "duration": 0.029646,
     "end_time": "2022-10-16T18:26:09.248452",
     "exception": false,
     "start_time": "2022-10-16T18:26:09.218806",
     "status": "completed"
    },
    "tags": []
   },
   "outputs": [
    {
     "data": {
      "text/plain": [
       "(1459, 219)"
      ]
     },
     "execution_count": 39,
     "metadata": {},
     "output_type": "execute_result"
    }
   ],
   "source": [
    "final_test_scaled.shape"
   ]
  },
  {
   "cell_type": "markdown",
   "id": "a94ab9d8",
   "metadata": {
    "papermill": {
     "duration": 0.019337,
     "end_time": "2022-10-16T18:26:09.286136",
     "exception": false,
     "start_time": "2022-10-16T18:26:09.266799",
     "status": "completed"
    },
    "tags": []
   },
   "source": [
    "<a id='19'></a>\n",
    "<span style=\"color:pink;font-weight:600;font-size:25px;font-style:serif\">\n",
    "    Data prediction on test data\n",
    "</span>\n"
   ]
  },
  {
   "cell_type": "code",
   "execution_count": 40,
   "id": "e9670eb7",
   "metadata": {
    "execution": {
     "iopub.execute_input": "2022-10-16T18:26:09.326166Z",
     "iopub.status.busy": "2022-10-16T18:26:09.325778Z",
     "iopub.status.idle": "2022-10-16T18:26:09.375176Z",
     "shell.execute_reply": "2022-10-16T18:26:09.374013Z"
    },
    "papermill": {
     "duration": 0.073096,
     "end_time": "2022-10-16T18:26:09.378120",
     "exception": false,
     "start_time": "2022-10-16T18:26:09.305024",
     "status": "completed"
    },
    "tags": []
   },
   "outputs": [],
   "source": [
    "# make predictions which we will submit. \n",
    "test_preds = rf_model_on_full_data.predict(final_test_scaled)"
   ]
  },
  {
   "cell_type": "code",
   "execution_count": 41,
   "id": "8d657434",
   "metadata": {
    "execution": {
     "iopub.execute_input": "2022-10-16T18:26:09.417585Z",
     "iopub.status.busy": "2022-10-16T18:26:09.417187Z",
     "iopub.status.idle": "2022-10-16T18:26:09.425001Z",
     "shell.execute_reply": "2022-10-16T18:26:09.423909Z"
    },
    "papermill": {
     "duration": 0.030761,
     "end_time": "2022-10-16T18:26:09.427365",
     "exception": false,
     "start_time": "2022-10-16T18:26:09.396604",
     "status": "completed"
    },
    "tags": []
   },
   "outputs": [
    {
     "data": {
      "text/plain": [
       "(1459, 219)"
      ]
     },
     "execution_count": 41,
     "metadata": {},
     "output_type": "execute_result"
    }
   ],
   "source": [
    "final_test.shape"
   ]
  },
  {
   "cell_type": "markdown",
   "id": "d4322616",
   "metadata": {
    "papermill": {
     "duration": 0.019391,
     "end_time": "2022-10-16T18:26:09.465496",
     "exception": false,
     "start_time": "2022-10-16T18:26:09.446105",
     "status": "completed"
    },
    "tags": []
   },
   "source": [
    "<a id='20'></a>\n",
    "<span style=\"color:pink;font-weight:600;font-size:25px;font-style:serif\">\n",
    "    Generate submission\n",
    "</span>\n"
   ]
  },
  {
   "cell_type": "code",
   "execution_count": 42,
   "id": "f24831dd",
   "metadata": {
    "execution": {
     "iopub.execute_input": "2022-10-16T18:26:09.504698Z",
     "iopub.status.busy": "2022-10-16T18:26:09.504273Z",
     "iopub.status.idle": "2022-10-16T18:26:09.516802Z",
     "shell.execute_reply": "2022-10-16T18:26:09.515666Z"
    },
    "papermill": {
     "duration": 0.035263,
     "end_time": "2022-10-16T18:26:09.519528",
     "exception": false,
     "start_time": "2022-10-16T18:26:09.484265",
     "status": "completed"
    },
    "tags": []
   },
   "outputs": [],
   "source": [
    "# Run the code to save predictions in the format used for competition scoring\n",
    "output = pd.DataFrame({'Id': test_data.Id,\n",
    "                       'SalePrice': test_preds})\n",
    "output.to_csv('submission.csv', index=False)"
   ]
  },
  {
   "cell_type": "markdown",
   "id": "5d08c2c3",
   "metadata": {
    "papermill": {
     "duration": 0.01981,
     "end_time": "2022-10-16T18:26:09.558107",
     "exception": false,
     "start_time": "2022-10-16T18:26:09.538297",
     "status": "completed"
    },
    "tags": []
   },
   "source": [
    "<span style=\"font-weight:600;font-size:25px;font-style:serif;\">\n",
    "    \n",
    "    I hope you enjoyed this kernel!\n",
    "    If you have any questions or tips, feel free to reach out :)\n",
    "</span>\n",
    "\n"
   ]
  },
  {
   "cell_type": "markdown",
   "id": "1c71fea4",
   "metadata": {
    "papermill": {
     "duration": 0.018123,
     "end_time": "2022-10-16T18:26:09.594810",
     "exception": false,
     "start_time": "2022-10-16T18:26:09.576687",
     "status": "completed"
    },
    "tags": []
   },
   "source": [
    "[Top](#21)"
   ]
  },
  {
   "cell_type": "markdown",
   "id": "aff53032",
   "metadata": {
    "papermill": {
     "duration": 0.017917,
     "end_time": "2022-10-16T18:26:09.631334",
     "exception": false,
     "start_time": "2022-10-16T18:26:09.613417",
     "status": "completed"
    },
    "tags": []
   },
   "source": [
    "<div class=\"alert\" style=\"background-color:thistle; text-align:center; color:white; weight:200; font-size:30px;\">\n",
    "    🕊 Feedback & upvotes much appreciated! 🕊\n",
    "</div>"
   ]
  }
 ],
 "metadata": {
  "kernelspec": {
   "display_name": "Python 3",
   "language": "python",
   "name": "python3"
  },
  "language_info": {
   "codemirror_mode": {
    "name": "ipython",
    "version": 3
   },
   "file_extension": ".py",
   "mimetype": "text/x-python",
   "name": "python",
   "nbconvert_exporter": "python",
   "pygments_lexer": "ipython3",
   "version": "3.7.12"
  },
  "papermill": {
   "default_parameters": {},
   "duration": 19.867905,
   "end_time": "2022-10-16T18:26:10.472145",
   "environment_variables": {},
   "exception": null,
   "input_path": "__notebook__.ipynb",
   "output_path": "__notebook__.ipynb",
   "parameters": {},
   "start_time": "2022-10-16T18:25:50.604240",
   "version": "2.3.4"
  }
 },
 "nbformat": 4,
 "nbformat_minor": 5
}
